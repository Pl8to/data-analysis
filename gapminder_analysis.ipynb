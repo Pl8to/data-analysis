{
 "cells": [
  {
   "cell_type": "markdown",
   "metadata": {},
   "source": [
    "##Test Analysis"
   ]
  },
  {
   "cell_type": "markdown",
   "metadata": {},
   "source": [
    "This notebook uses the following libraries: "
   ]
  },
  {
   "cell_type": "code",
   "execution_count": 4,
   "metadata": {
    "collapsed": false
   },
   "outputs": [],
   "source": [
    "import pandas as pd\n",
    "import numpy as np\n",
    "import matplotlib.pyplot as plt\n",
    "%matplotlib inline"
   ]
  },
  {
   "cell_type": "markdown",
   "metadata": {},
   "source": [
    "Import dataloaded from github.com/swcarpentry"
   ]
  },
  {
   "cell_type": "code",
   "execution_count": 8,
   "metadata": {
    "collapsed": false
   },
   "outputs": [],
   "source": [
    "gap_data = pd.read_csv (\"data/gapminder-FiveYearData.csv\", header=0)"
   ]
  },
  {
   "cell_type": "markdown",
   "metadata": {},
   "source": [
    "(Check)"
   ]
  },
  {
   "cell_type": "code",
   "execution_count": 9,
   "metadata": {
    "collapsed": false
   },
   "outputs": [
    {
     "name": "stdout",
     "output_type": "stream",
     "text": [
      "       country  year       pop continent  lifeExp   gdpPercap\n",
      "0  Afghanistan  1952   8425333      Asia   28.801  779.445314\n",
      "1  Afghanistan  1957   9240934      Asia   30.332  820.853030\n",
      "2  Afghanistan  1962  10267083      Asia   31.997  853.100710\n",
      "3  Afghanistan  1967  11537966      Asia   34.020  836.197138\n",
      "4  Afghanistan  1972  13079460      Asia   36.088  739.981106\n",
      "5  Afghanistan  1977  14880372      Asia   38.438  786.113360\n"
     ]
    }
   ],
   "source": [
    "print gap_data[0:6]"
   ]
  },
  {
   "cell_type": "markdown",
   "metadata": {},
   "source": [
    "Extract information about population"
   ]
  },
  {
   "cell_type": "code",
   "execution_count": 26,
   "metadata": {
    "collapsed": false
   },
   "outputs": [
    {
     "name": "stdout",
     "output_type": "stream",
     "text": [
      "                    pop\n",
      "continent              \n",
      "Oceania    1.068601e+07\n",
      "Africa     2.376405e+08\n",
      "Americas   3.451524e+08\n",
      "Europe     4.181208e+08\n",
      "Asia       1.395357e+09\n"
     ]
    }
   ],
   "source": [
    "def pop_year(df, year):\n",
    "    \"'Function that calculates total population per continent for a year. Input: dataframe, year, Output: resulting dataframe'\"\n",
    "    assert type(year) is int, \"Argument is not a number\"\n",
    "    assert year > 1950, \"Year too small\"\n",
    "    \n",
    "    \n",
    "    subset_data = df[(df.year == year)] [[\"continent\", \"pop\"]]\n",
    "    pop_data = subset_data.groupby(\"continent\").sum().sort(\"pop\")\n",
    "    return pop_data\n",
    "\n",
    "print pop_year(gap_data, 1952)"
   ]
  },
  {
   "cell_type": "markdown",
   "metadata": {},
   "source": [
    "Plot my data"
   ]
  },
  {
   "cell_type": "code",
   "execution_count": 33,
   "metadata": {
    "collapsed": false
   },
   "outputs": [
    {
     "data": {
      "image/png": "[encoded data removed]",
      "text/plain": [
       "<matplotlib.figure.Figure at 0x10877a4d0>"
      ]
     },
     "metadata": {},
     "output_type": "display_data"
    }
   ],
   "source": [
    "def pop_plot(df):\n",
    "    year_string = str(year)\n",
    "    \n",
    "    \n",
    "    types = list(pop_data.index)\n",
    "    y_pos = np.arange(len(types))\n",
    "\n",
    "    plt.barh(y_pos, df [\"pop\"], align='center')\n",
    "    plt.yticks(y_pos, types)\n",
    "    plt.xlabel('Total Population')\n",
    "    plt.ylabel('Continent')\n",
    "    plt.title('World Populations in' +year_string)\n",
    "    plt.show()\n",
    "    \n",
    "pop_plot(pop_year(gap_data, 1952))"
   ]
  },
  {
   "cell_type": "markdown",
   "metadata": {},
   "source": []
  },
  {
   "cell_type": "code",
   "execution_count": 28,
   "metadata": {
    "collapsed": false
   },
   "outputs": [
    {
     "name": "stdout",
     "output_type": "stream",
     "text": [
      "count    1704.00000\n",
      "mean     1979.50000\n",
      "std        17.26533\n",
      "min      1952.00000\n",
      "25%      1965.75000\n",
      "50%      1979.50000\n",
      "75%      1993.25000\n",
      "max      2007.00000\n",
      "Name: year, dtype: float64\n",
      "[1952, 1957, 1962, 1967, 1972, 1977, 1982, 1987, 1992, 1997, 2002, 2007]\n"
     ]
    }
   ],
   "source": [
    "print gap_data.year.describe()\n",
    "\n",
    "years = range(1952, 2012, 5)\n",
    "print years"
   ]
  },
  {
   "cell_type": "code",
   "execution_count": 32,
   "metadata": {
    "collapsed": false
   },
   "outputs": [
    {
     "ename": "TypeError",
     "evalue": "'function' object has no attribute '__getitem__'",
     "output_type": "error",
     "traceback": [
      "\u001b[0;31m---------------------------------------------------------------------------\u001b[0m",
      "\u001b[0;31mTypeError\u001b[0m                                 Traceback (most recent call last)",
      "\u001b[0;32m<ipython-input-32-121feefb8856>\u001b[0m in \u001b[0;36m<module>\u001b[0;34m()\u001b[0m\n\u001b[1;32m      1\u001b[0m \u001b[0;32mfor\u001b[0m \u001b[0myear\u001b[0m \u001b[0;32min\u001b[0m \u001b[0myears\u001b[0m\u001b[0;34m:\u001b[0m\u001b[0;34m\u001b[0m\u001b[0m\n\u001b[0;32m----> 2\u001b[0;31m     \u001b[0mpop_plot\u001b[0m \u001b[0;34m[\u001b[0m\u001b[0mpop_year\u001b[0m\u001b[0;34m(\u001b[0m\u001b[0mgap_data\u001b[0m\u001b[0;34m,\u001b[0m \u001b[0myear\u001b[0m\u001b[0;34m)\u001b[0m\u001b[0;34m,\u001b[0m \u001b[0myear\u001b[0m\u001b[0;34m]\u001b[0m\u001b[0;34m\u001b[0m\u001b[0m\n\u001b[0m",
      "\u001b[0;31mTypeError\u001b[0m: 'function' object has no attribute '__getitem__'"
     ]
    }
   ],
   "source": [
    "for year in years:\n",
    "    pop_plot pop_year(gap_data, year), year"
   ]
  },
  {
   "cell_type": "code",
   "execution_count": null,
   "metadata": {
    "collapsed": true
   },
   "outputs": [],
   "source": []
  }
 ],
 "metadata": {
  "kernelspec": {
   "display_name": "Python 2",
   "language": "python",
   "name": "python2"
  },
  "language_info": {
   "codemirror_mode": {
    "name": "ipython",
    "version": 2
   },
   "file_extension": ".py",
   "mimetype": "text/x-python",
   "name": "python",
   "nbconvert_exporter": "python",
   "pygments_lexer": "ipython2",
   "version": "2.7.9"
  }
 },
 "nbformat": 4,
 "nbformat_minor": 0
}
